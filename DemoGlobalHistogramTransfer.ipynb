{
 "cells": [
  {
   "cell_type": "markdown",
   "metadata": {},
   "source": [
    "# Quick Demo of Global Histogram Transfer\n",
    "\n",
    "This iPython Notebook gives a quick demonstration of our system, and requires a working installation of Caffe. Directory ```./caffe_files``` should be appended to ```PYTHONPATH``` in your system."
   ]
  },
  {
   "cell_type": "code",
   "execution_count": 1,
   "metadata": {
    "collapsed": false
   },
   "outputs": [
    {
     "ename": "ImportError",
     "evalue": "No module named caffe",
     "output_type": "error",
     "traceback": [
      "\u001b[0;31m---------------------------------------------------------------------------\u001b[0m",
      "\u001b[0;31mImportError\u001b[0m                               Traceback (most recent call last)",
      "\u001b[0;32m<ipython-input-1-a25e13ad4b0f>\u001b[0m in \u001b[0;36m<module>\u001b[0;34m()\u001b[0m\n\u001b[0;32m----> 1\u001b[0;31m \u001b[0;32mimport\u001b[0m \u001b[0mcaffe\u001b[0m\u001b[0;34m\u001b[0m\u001b[0m\n\u001b[0m\u001b[1;32m      2\u001b[0m \u001b[0;32mimport\u001b[0m \u001b[0mnumpy\u001b[0m \u001b[0;32mas\u001b[0m \u001b[0mnp\u001b[0m\u001b[0;34m\u001b[0m\u001b[0m\n\u001b[1;32m      3\u001b[0m \u001b[0;32mimport\u001b[0m \u001b[0mscipy\u001b[0m \u001b[0;32mas\u001b[0m \u001b[0msp\u001b[0m\u001b[0;34m\u001b[0m\u001b[0m\n\u001b[1;32m      4\u001b[0m \u001b[0;32mimport\u001b[0m \u001b[0mmatplotlib\u001b[0m\u001b[0;34m.\u001b[0m\u001b[0mpyplot\u001b[0m \u001b[0;32mas\u001b[0m \u001b[0mplt\u001b[0m\u001b[0;34m\u001b[0m\u001b[0m\n\u001b[1;32m      5\u001b[0m \u001b[0;32mfrom\u001b[0m \u001b[0mdata\u001b[0m \u001b[0;32mimport\u001b[0m \u001b[0mcolorize_image\u001b[0m \u001b[0;32mas\u001b[0m \u001b[0mCI\u001b[0m\u001b[0;34m\u001b[0m\u001b[0m\n",
      "\u001b[0;31mImportError\u001b[0m: No module named caffe"
     ]
    }
   ],
   "source": [
    "import caffe\n",
    "import numpy as np\n",
    "import scipy as sp\n",
    "import matplotlib.pyplot as plt\n",
    "from data import colorize_image as CI\n",
    "from skimage import color\n",
    "from data import lab_gamut as lab\n",
    "\n",
    "%matplotlib inline"
   ]
  },
  {
   "cell_type": "markdown",
   "metadata": {},
   "source": [
    "## Select images\n",
    "\n",
    "Images used in our camera ready paper are in directory ```./test_imgs```"
   ]
  },
  {
   "cell_type": "code",
   "execution_count": null,
   "metadata": {
    "collapsed": false
   },
   "outputs": [],
   "source": [
    "# image to colorize\n",
    "img_path = './test_imgs/bird_gray.jpg'\n",
    "\n",
    "# color histogram to use\n",
    "ref_path = './test_imgs/global_ref_bird/ILSVRC2012_val_00002383.JPEG'"
   ]
  },
  {
   "cell_type": "markdown",
   "metadata": {},
   "source": [
    "## Load colorization network"
   ]
  },
  {
   "cell_type": "code",
   "execution_count": null,
   "metadata": {
    "collapsed": false
   },
   "outputs": [],
   "source": [
    "gpu_id = 0 # gpu to use\n",
    "Xd = 256\n",
    "\n",
    "# Colorization network\n",
    "cid = CI.ColorizeImageCaffeGlobDist(Xd)\n",
    "cid.prep_net(gpu_id,prototxt_path='./models/global_model/deploy_nodist.prototxt',\\\n",
    "            caffemodel_path='./models/global_model/global_model.caffemodel')\n",
    "\n",
    "# Global distribution network - extracts global color statistics from an image\n",
    "gt_glob_net = caffe.Net('./models/global_model/global_stats.prototxt',\\\n",
    "                       './models/global_model/dummy.caffemodel', caffe.TEST)"
   ]
  },
  {
   "cell_type": "markdown",
   "metadata": {},
   "source": [
    "## Colorization in automatic mode (with no reference histogram)"
   ]
  },
  {
   "cell_type": "code",
   "execution_count": null,
   "metadata": {
    "collapsed": false
   },
   "outputs": [],
   "source": [
    "# Load image\n",
    "cid.load_image(img_path)\n",
    "\n",
    "# Dummy variables\n",
    "input_ab = np.zeros((2,Xd,Xd))\n",
    "input_mask = np.zeros((1,Xd,Xd))\n",
    "\n",
    "# Colorization without global histogram\n",
    "img_pred = cid.net_forward(input_ab,input_mask);\n",
    "img_pred_auto_fullres = cid.get_img_fullres()\n",
    "\n",
    "# Gray image\n",
    "img_gray_fullres = cid.get_img_gray_fullres()\n",
    "\n",
    "# Plot result\n",
    "plt.figure(figsize=(10,4))\n",
    "plt.imshow(np.concatenate((img_gray_fullres,img_pred_auto_fullres),axis=1));\n",
    "plt.title('Grayscale image / Automatic colorization (no reference histogram)')\n",
    "plt.axis('off');"
   ]
  },
  {
   "cell_type": "markdown",
   "metadata": {},
   "source": [
    "## Colorization with reference global histogram"
   ]
  },
  {
   "cell_type": "code",
   "execution_count": null,
   "metadata": {
    "collapsed": false
   },
   "outputs": [],
   "source": [
    "# Colorization with reference global histogram\n",
    "def get_global_histogram(img_path):\n",
    "    ref_img_fullres = caffe.io.load_image(ref_path)\n",
    "    img_glob_dist = (255*caffe.io.resize_image(ref_img_fullres,(Xd,Xd))).astype('uint8') # load image\n",
    "    gt_glob_net.blobs['img_bgr'].data[...] = img_glob_dist[:,:,::-1].transpose((2,0,1)) # put into \n",
    "    gt_glob_net.forward();\n",
    "    glob_dist_in = gt_glob_net.blobs['gt_glob_ab_313_drop'].data[0,:-1,0,0].copy()\n",
    "    return (glob_dist_in,ref_img_fullres)\n",
    "\n",
    "(glob_dist_ref,ref_img_fullres) = get_global_histogram(ref_path)\n",
    "img_pred = cid.net_forward(input_ab,input_mask,glob_dist_ref);\n",
    "img_pred_withref_fullres = cid.get_img_fullres()\n",
    "\n",
    "plt.figure(figsize=(10,4))\n",
    "plt.imshow(np.concatenate((img_gray_fullres,img_pred_withref_fullres),axis=1));\n",
    "plt.title('Grayscale image / Resulting colorization with reference histogram')\n",
    "plt.axis('off');\n",
    "\n",
    "plt.figure(figsize=(4,4))\n",
    "plt.imshow(ref_img_fullres);\n",
    "plt.title('Reference image');\n",
    "plt.axis('off');"
   ]
  },
  {
   "cell_type": "code",
   "execution_count": null,
   "metadata": {
    "collapsed": false
   },
   "outputs": [],
   "source": []
  },
  {
   "cell_type": "code",
   "execution_count": null,
   "metadata": {
    "collapsed": true
   },
   "outputs": [],
   "source": []
  }
 ],
 "metadata": {
  "kernelspec": {
   "display_name": "Python 2",
   "language": "python",
   "name": "python2"
  },
  "language_info": {
   "codemirror_mode": {
    "name": "ipython",
    "version": 2
   },
   "file_extension": ".py",
   "mimetype": "text/x-python",
   "name": "python",
   "nbconvert_exporter": "python",
   "pygments_lexer": "ipython2",
   "version": "2.7.15rc1"
  }
 },
 "nbformat": 4,
 "nbformat_minor": 2
}
